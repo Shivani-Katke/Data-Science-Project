{
 "cells": [
  {
   "cell_type": "markdown",
   "id": "80e0b53f-71a8-4a53-a8d5-95eb12fb7a5d",
   "metadata": {},
   "source": [
    "### Lecture 2"
   ]
  },
  {
   "cell_type": "code",
   "execution_count": 1,
   "id": "9db73d3f-4d70-481c-a7a1-4e5cde395e98",
   "metadata": {},
   "outputs": [],
   "source": [
    "import numpy as np"
   ]
  },
  {
   "cell_type": "code",
   "execution_count": 2,
   "id": "89b0a6c4-82b7-4492-9f09-23ba19c6202b",
   "metadata": {},
   "outputs": [
    {
     "data": {
      "text/plain": [
       "array([ 0,  1,  2,  3,  4,  5,  6,  7,  8,  9, 10, 11])"
      ]
     },
     "execution_count": 2,
     "metadata": {},
     "output_type": "execute_result"
    }
   ],
   "source": [
    "arr1 = np.arange(12)\n",
    "arr1"
   ]
  },
  {
   "cell_type": "code",
   "execution_count": 3,
   "id": "2b91a088-da70-4c4b-84e0-e27b342a34b1",
   "metadata": {},
   "outputs": [
    {
     "data": {
      "text/plain": [
       "(12,)"
      ]
     },
     "execution_count": 3,
     "metadata": {},
     "output_type": "execute_result"
    }
   ],
   "source": [
    "arr1.shape"
   ]
  },
  {
   "cell_type": "code",
   "execution_count": 4,
   "id": "d326aaa5-6010-438b-b205-c30b6b6b4c45",
   "metadata": {},
   "outputs": [
    {
     "data": {
      "text/plain": [
       "12"
      ]
     },
     "execution_count": 4,
     "metadata": {},
     "output_type": "execute_result"
    }
   ],
   "source": [
    "arr1.size"
   ]
  },
  {
   "cell_type": "code",
   "execution_count": 5,
   "id": "d3e8f89d-1325-4118-8a67-b035349be10e",
   "metadata": {},
   "outputs": [
    {
     "data": {
      "text/plain": [
       "dtype('int32')"
      ]
     },
     "execution_count": 5,
     "metadata": {},
     "output_type": "execute_result"
    }
   ],
   "source": [
    "arr1.dtype"
   ]
  },
  {
   "cell_type": "code",
   "execution_count": 6,
   "id": "f08f1e72-b13b-4484-9881-94d5f0e9fd74",
   "metadata": {},
   "outputs": [],
   "source": [
    "def info_array(a):                     # creating function for shape,size,type & dim\n",
    "    print(\"Dimenshion - \", a.ndim)\n",
    "    print(\"Shape -\" ,a.shape)\n",
    "    print(\"Number of elements -\" ,a.size)\n",
    "    print(\"Datatype -\" ,a.dtype)"
   ]
  },
  {
   "cell_type": "code",
   "execution_count": 7,
   "id": "fdfab81f-01c2-41bb-8360-06ca9e3a07f5",
   "metadata": {},
   "outputs": [
    {
     "name": "stdout",
     "output_type": "stream",
     "text": [
      "Dimenshion -  1\n",
      "Shape - (12,)\n",
      "Number of elements - 12\n",
      "Datatype - int32\n"
     ]
    }
   ],
   "source": [
    "info_array(arr1)"
   ]
  },
  {
   "cell_type": "markdown",
   "id": "c806e3c1-0123-4443-9039-4ee0d6b50e4c",
   "metadata": {},
   "source": [
    "### Linspace"
   ]
  },
  {
   "cell_type": "code",
   "execution_count": 8,
   "id": "fafe0fc5-a03b-4ef7-9f9a-aad96a1a0171",
   "metadata": {},
   "outputs": [
    {
     "data": {
      "text/plain": [
       "array([1.        , 1.03030303, 1.06060606, 1.09090909, 1.12121212,\n",
       "       1.15151515, 1.18181818, 1.21212121, 1.24242424, 1.27272727,\n",
       "       1.3030303 , 1.33333333, 1.36363636, 1.39393939, 1.42424242,\n",
       "       1.45454545, 1.48484848, 1.51515152, 1.54545455, 1.57575758,\n",
       "       1.60606061, 1.63636364, 1.66666667, 1.6969697 , 1.72727273,\n",
       "       1.75757576, 1.78787879, 1.81818182, 1.84848485, 1.87878788,\n",
       "       1.90909091, 1.93939394, 1.96969697, 2.        ])"
      ]
     },
     "execution_count": 8,
     "metadata": {},
     "output_type": "execute_result"
    }
   ],
   "source": [
    "arr2 = np.linspace(1,2,34)\n",
    "arr2"
   ]
  },
  {
   "cell_type": "code",
   "execution_count": 9,
   "id": "dc46c024-8afb-456b-9103-e7371c312faa",
   "metadata": {},
   "outputs": [
    {
     "data": {
      "text/plain": [
       "array([10., 17., 24., 31., 38., 45.])"
      ]
     },
     "execution_count": 9,
     "metadata": {},
     "output_type": "execute_result"
    }
   ],
   "source": [
    "arr3 = np.linspace(10,45,6)\n",
    "arr3"
   ]
  },
  {
   "cell_type": "code",
   "execution_count": 10,
   "id": "007d32d0-73ce-4f37-a8fb-c0fdced0fbc2",
   "metadata": {},
   "outputs": [
    {
     "data": {
      "text/plain": [
       "array([1., 5., 9.])"
      ]
     },
     "execution_count": 10,
     "metadata": {},
     "output_type": "execute_result"
    }
   ],
   "source": [
    "arr4 = np.linspace(1,9,3)\n",
    "arr4"
   ]
  },
  {
   "cell_type": "code",
   "execution_count": 11,
   "id": "adc6c715-9c0d-4ea1-affb-7bb1bf07a55a",
   "metadata": {},
   "outputs": [
    {
     "data": {
      "text/plain": [
       "array([1.        , 1.03225806, 1.06451613, 1.09677419, 1.12903226,\n",
       "       1.16129032, 1.19354839, 1.22580645, 1.25806452, 1.29032258,\n",
       "       1.32258065, 1.35483871, 1.38709677, 1.41935484, 1.4516129 ,\n",
       "       1.48387097, 1.51612903, 1.5483871 , 1.58064516, 1.61290323,\n",
       "       1.64516129, 1.67741935, 1.70967742, 1.74193548, 1.77419355,\n",
       "       1.80645161, 1.83870968, 1.87096774, 1.90322581, 1.93548387,\n",
       "       1.96774194, 2.        , 2.03225806, 2.06451613, 2.09677419,\n",
       "       2.12903226, 2.16129032, 2.19354839, 2.22580645, 2.25806452,\n",
       "       2.29032258, 2.32258065, 2.35483871, 2.38709677, 2.41935484,\n",
       "       2.4516129 , 2.48387097, 2.51612903, 2.5483871 , 2.58064516,\n",
       "       2.61290323, 2.64516129, 2.67741935, 2.70967742, 2.74193548,\n",
       "       2.77419355, 2.80645161, 2.83870968, 2.87096774, 2.90322581,\n",
       "       2.93548387, 2.96774194, 3.        , 3.03225806, 3.06451613,\n",
       "       3.09677419, 3.12903226, 3.16129032, 3.19354839, 3.22580645,\n",
       "       3.25806452, 3.29032258, 3.32258065, 3.35483871, 3.38709677,\n",
       "       3.41935484, 3.4516129 , 3.48387097, 3.51612903, 3.5483871 ,\n",
       "       3.58064516, 3.61290323, 3.64516129, 3.67741935, 3.70967742,\n",
       "       3.74193548, 3.77419355, 3.80645161, 3.83870968, 3.87096774,\n",
       "       3.90322581, 3.93548387, 3.96774194, 4.        , 4.03225806,\n",
       "       4.06451613, 4.09677419, 4.12903226, 4.16129032, 4.19354839,\n",
       "       4.22580645, 4.25806452, 4.29032258, 4.32258065, 4.35483871,\n",
       "       4.38709677, 4.41935484, 4.4516129 , 4.48387097, 4.51612903,\n",
       "       4.5483871 , 4.58064516, 4.61290323, 4.64516129, 4.67741935,\n",
       "       4.70967742, 4.74193548, 4.77419355, 4.80645161, 4.83870968,\n",
       "       4.87096774, 4.90322581, 4.93548387, 4.96774194, 5.        ])"
      ]
     },
     "execution_count": 11,
     "metadata": {},
     "output_type": "execute_result"
    }
   ],
   "source": [
    "arr5 = np.linspace(1,5,125)\n",
    "arr5"
   ]
  },
  {
   "cell_type": "code",
   "execution_count": 12,
   "id": "13cbfc33-448a-41fa-8463-a1f659201bdb",
   "metadata": {},
   "outputs": [
    {
     "name": "stdout",
     "output_type": "stream",
     "text": [
      "Dimenshion -  1\n",
      "Shape - (125,)\n",
      "Number of elements - 125\n",
      "Datatype - float64\n"
     ]
    }
   ],
   "source": [
    "info_array(arr5)"
   ]
  },
  {
   "cell_type": "markdown",
   "id": "36c8ccb0-c481-48f0-bc6c-287bc6391635",
   "metadata": {},
   "source": [
    "## Re-Shape"
   ]
  },
  {
   "cell_type": "code",
   "execution_count": 13,
   "id": "0c8cdf53-cb79-4ed1-9a5e-b21a39f7ce17",
   "metadata": {},
   "outputs": [
    {
     "data": {
      "text/plain": [
       "array([ 1,  2,  3,  4,  5,  6,  7,  8,  9, 10, 11, 12, 13, 14, 15, 16, 17,\n",
       "       18, 19, 20, 21, 22, 23, 24])"
      ]
     },
     "execution_count": 13,
     "metadata": {},
     "output_type": "execute_result"
    }
   ],
   "source": [
    "arr6 = np.linspace(1,24,24, dtype=\"int\")\n",
    "arr6"
   ]
  },
  {
   "cell_type": "code",
   "execution_count": 14,
   "id": "28fbadb2-fb13-45e0-b2b4-bf6c42dcdd53",
   "metadata": {},
   "outputs": [
    {
     "data": {
      "text/plain": [
       "(24,)"
      ]
     },
     "execution_count": 14,
     "metadata": {},
     "output_type": "execute_result"
    }
   ],
   "source": [
    "arr6.shape"
   ]
  },
  {
   "cell_type": "code",
   "execution_count": 15,
   "id": "0b5e8a96-43ed-4058-83dd-2bd3f4c4c14e",
   "metadata": {},
   "outputs": [
    {
     "data": {
      "text/plain": [
       "array([[ 1,  2,  3,  4],\n",
       "       [ 5,  6,  7,  8],\n",
       "       [ 9, 10, 11, 12],\n",
       "       [13, 14, 15, 16],\n",
       "       [17, 18, 19, 20],\n",
       "       [21, 22, 23, 24]])"
      ]
     },
     "execution_count": 15,
     "metadata": {},
     "output_type": "execute_result"
    }
   ],
   "source": [
    "arr6.reshape(6,4)"
   ]
  },
  {
   "cell_type": "markdown",
   "id": "83c20a32-ee27-4fc8-9e52-d704bdf6a713",
   "metadata": {},
   "source": [
    "* Reshape above array with following shapes - (12,2), (2,12), (8,3), (3,8), (3,4,2)"
   ]
  },
  {
   "cell_type": "code",
   "execution_count": 16,
   "id": "dc2f4e01-21bb-47a9-bf0f-1601bca89c29",
   "metadata": {},
   "outputs": [
    {
     "data": {
      "text/plain": [
       "array([[[ 1,  2],\n",
       "        [ 3,  4],\n",
       "        [ 5,  6],\n",
       "        [ 7,  8]],\n",
       "\n",
       "       [[ 9, 10],\n",
       "        [11, 12],\n",
       "        [13, 14],\n",
       "        [15, 16]],\n",
       "\n",
       "       [[17, 18],\n",
       "        [19, 20],\n",
       "        [21, 22],\n",
       "        [23, 24]]])"
      ]
     },
     "execution_count": 16,
     "metadata": {},
     "output_type": "execute_result"
    }
   ],
   "source": [
    "arr6.reshape(3,4,2)  # creates 3 layers with 4 rows and 2 columns"
   ]
  },
  {
   "cell_type": "code",
   "execution_count": 17,
   "id": "400b6f1d-2614-4f85-9978-0ddcf97e1c3f",
   "metadata": {},
   "outputs": [
    {
     "data": {
      "text/plain": [
       "array([ 1,  2,  3,  4,  5,  6,  7,  8,  9, 10, 11, 12, 13, 14, 15, 16, 17,\n",
       "       18, 19, 20, 21, 22, 23, 24])"
      ]
     },
     "execution_count": 17,
     "metadata": {},
     "output_type": "execute_result"
    }
   ],
   "source": [
    "arr6"
   ]
  },
  {
   "cell_type": "code",
   "execution_count": 18,
   "id": "3cfd22cd-2267-42e3-b4d6-f179451b3645",
   "metadata": {},
   "outputs": [
    {
     "data": {
      "text/plain": [
       "array([[ 1,  2,  3,  4],\n",
       "       [ 5,  6,  7,  8],\n",
       "       [ 9, 10, 11, 12],\n",
       "       [13, 14, 15, 16],\n",
       "       [17, 18, 19, 20],\n",
       "       [21, 22, 23, 24]])"
      ]
     },
     "execution_count": 18,
     "metadata": {},
     "output_type": "execute_result"
    }
   ],
   "source": [
    "arr6 = arr6.reshape(6,4)\n",
    "arr6"
   ]
  },
  {
   "cell_type": "code",
   "execution_count": 19,
   "id": "563d0ba1-6c99-42dc-bf06-1712d6419113",
   "metadata": {},
   "outputs": [
    {
     "data": {
      "text/plain": [
       "array([ 1,  2,  3,  4,  5,  6,  7,  8,  9, 10, 11, 12, 13, 14, 15, 16, 17,\n",
       "       18, 19, 20, 21, 22, 23, 24])"
      ]
     },
     "execution_count": 19,
     "metadata": {},
     "output_type": "execute_result"
    }
   ],
   "source": [
    "arr6.reshape(24)"
   ]
  },
  {
   "cell_type": "markdown",
   "id": "1d9df63c-07f4-4cb3-8179-43e33949e1fc",
   "metadata": {},
   "source": [
    "## Ravel"
   ]
  },
  {
   "cell_type": "code",
   "execution_count": 20,
   "id": "105a6cc9-445d-420b-8094-c996d5e897f5",
   "metadata": {},
   "outputs": [
    {
     "data": {
      "text/plain": [
       "array([ 1,  2,  3,  4,  5,  6,  7,  8,  9, 10, 11, 12, 13, 14, 15, 16, 17,\n",
       "       18, 19, 20, 21, 22, 23, 24])"
      ]
     },
     "execution_count": 20,
     "metadata": {},
     "output_type": "execute_result"
    }
   ],
   "source": [
    "arr6.ravel(\"C\") # C Programming"
   ]
  },
  {
   "cell_type": "code",
   "execution_count": 21,
   "id": "3a82f2b6-69bc-478b-8da5-3c63dc7f07d1",
   "metadata": {},
   "outputs": [
    {
     "data": {
      "text/plain": [
       "array([ 1,  5,  9, 13, 17, 21,  2,  6, 10, 14, 18, 22,  3,  7, 11, 15, 19,\n",
       "       23,  4,  8, 12, 16, 20, 24])"
      ]
     },
     "execution_count": 21,
     "metadata": {},
     "output_type": "execute_result"
    }
   ],
   "source": [
    "arr6.ravel(\"F\") # FORTRON 77 Programming(joins the element according to column)"
   ]
  },
  {
   "cell_type": "markdown",
   "id": "c9fa9727-68fd-4a48-a554-d389c6e5a2cd",
   "metadata": {},
   "source": [
    "## Resize"
   ]
  },
  {
   "cell_type": "code",
   "execution_count": 22,
   "id": "80dd9252-9e1c-4931-99f2-bb318d9671a0",
   "metadata": {},
   "outputs": [],
   "source": [
    "arr6.resize(8,3)"
   ]
  },
  {
   "cell_type": "code",
   "execution_count": 23,
   "id": "8310e7ce-935e-4b7f-abbd-97a4a01d5619",
   "metadata": {},
   "outputs": [
    {
     "data": {
      "text/plain": [
       "array([[ 1,  2,  3],\n",
       "       [ 4,  5,  6],\n",
       "       [ 7,  8,  9],\n",
       "       [10, 11, 12],\n",
       "       [13, 14, 15],\n",
       "       [16, 17, 18],\n",
       "       [19, 20, 21],\n",
       "       [22, 23, 24]])"
      ]
     },
     "execution_count": 23,
     "metadata": {},
     "output_type": "execute_result"
    }
   ],
   "source": [
    "arr6"
   ]
  },
  {
   "cell_type": "code",
   "execution_count": 24,
   "id": "854b912f-5339-43fe-a92a-e90816246c7f",
   "metadata": {},
   "outputs": [
    {
     "data": {
      "text/plain": [
       "array([[ 1,  2,  3,  4,  5,  6,  7,  8],\n",
       "       [ 9, 10, 11, 12, 13, 14, 15, 16],\n",
       "       [17, 18, 19, 20, 21, 22, 23, 24]])"
      ]
     },
     "execution_count": 24,
     "metadata": {},
     "output_type": "execute_result"
    }
   ],
   "source": [
    "arr6.resize(3,8)\n",
    "arr6"
   ]
  },
  {
   "cell_type": "code",
   "execution_count": 25,
   "id": "cecdde87-9e0e-4bf3-b65c-079816a2e513",
   "metadata": {},
   "outputs": [
    {
     "data": {
      "text/plain": [
       "array([[ 1,  2,  3,  4,  5],\n",
       "       [ 6,  7,  8,  9, 10],\n",
       "       [11, 12, 13, 14, 15],\n",
       "       [16, 17, 18, 19, 20],\n",
       "       [21, 22, 23, 24,  1],\n",
       "       [ 2,  3,  4,  5,  6],\n",
       "       [ 7,  8,  9, 10, 11]])"
      ]
     },
     "execution_count": 25,
     "metadata": {},
     "output_type": "execute_result"
    }
   ],
   "source": [
    "np.resize(arr6, (7,5))  # adds elements in the end to complete 7 rows and 5 columns"
   ]
  },
  {
   "cell_type": "code",
   "execution_count": 26,
   "id": "4a2eda56-0dd1-4398-ae60-162903ae96a7",
   "metadata": {},
   "outputs": [
    {
     "data": {
      "text/plain": [
       "array([[ 1,  2,  3,  4],\n",
       "       [ 5,  6,  7,  8],\n",
       "       [ 9, 10, 11, 12]])"
      ]
     },
     "execution_count": 26,
     "metadata": {},
     "output_type": "execute_result"
    }
   ],
   "source": [
    "np.resize(arr6, (3,4))  # prints only elements till 3rd row and 4 columns"
   ]
  },
  {
   "cell_type": "code",
   "execution_count": 27,
   "id": "f20bc387-0b0c-4382-a24e-7c8b09939332",
   "metadata": {},
   "outputs": [
    {
     "data": {
      "text/plain": [
       "array([[ 4,  5,  6,  7],\n",
       "       [ 8,  9, 10, 11],\n",
       "       [12, 13, 14, 15]])"
      ]
     },
     "execution_count": 27,
     "metadata": {},
     "output_type": "execute_result"
    }
   ],
   "source": [
    "arr7 = np.arange(4,16).reshape(3,4)\n",
    "arr7"
   ]
  },
  {
   "cell_type": "code",
   "execution_count": 28,
   "id": "93982def-3a7c-4a8c-abd9-75f7b9d78726",
   "metadata": {},
   "outputs": [
    {
     "data": {
      "text/plain": [
       "array([[ 4,  5,  6,  7],\n",
       "       [ 8,  9, 10, 11],\n",
       "       [12, 13, 14, 15],\n",
       "       [ 4,  5,  6,  7],\n",
       "       [ 8,  9, 10, 11]])"
      ]
     },
     "execution_count": 28,
     "metadata": {},
     "output_type": "execute_result"
    }
   ],
   "source": [
    "np.resize(arr7, (5,4))  # adds two more rows starting from the first element to complelte 5 rows"
   ]
  },
  {
   "cell_type": "code",
   "execution_count": 29,
   "id": "fc1a6b0a-7cff-4695-9750-c3eed361386e",
   "metadata": {},
   "outputs": [
    {
     "data": {
      "text/plain": [
       "array([[1, 2, 3],\n",
       "       [4, 5, 6]])"
      ]
     },
     "execution_count": 29,
     "metadata": {},
     "output_type": "execute_result"
    }
   ],
   "source": [
    "arr8 = np.arange(1,7).reshape(2,3)\n",
    "arr8"
   ]
  },
  {
   "cell_type": "code",
   "execution_count": 30,
   "id": "0c9485c4-71a4-49c1-bced-468ee529d8b9",
   "metadata": {},
   "outputs": [
    {
     "data": {
      "text/plain": [
       "array([[ 7,  8,  9],\n",
       "       [10, 11, 12]])"
      ]
     },
     "execution_count": 30,
     "metadata": {},
     "output_type": "execute_result"
    }
   ],
   "source": [
    "arr9 = np.arange(7,13).reshape(2,3)\n",
    "arr9"
   ]
  },
  {
   "cell_type": "code",
   "execution_count": null,
   "id": "13587356-3c17-4b31-88b4-fbd01acc207e",
   "metadata": {},
   "outputs": [],
   "source": []
  },
  {
   "cell_type": "markdown",
   "id": "c47c39b5-9369-4006-9cf0-39501862ea8c",
   "metadata": {},
   "source": [
    "### Concatenate"
   ]
  },
  {
   "cell_type": "code",
   "execution_count": 31,
   "id": "e58a3cd0-34e8-4a21-b753-7588ce9db98f",
   "metadata": {},
   "outputs": [
    {
     "data": {
      "text/plain": [
       "array([[ 1,  2,  3],\n",
       "       [ 4,  5,  6],\n",
       "       [ 7,  8,  9],\n",
       "       [10, 11, 12]])"
      ]
     },
     "execution_count": 31,
     "metadata": {},
     "output_type": "execute_result"
    }
   ],
   "source": [
    "np.concatenate([arr8, arr9])"
   ]
  },
  {
   "cell_type": "code",
   "execution_count": 32,
   "id": "b089ae12-a4bf-4fa0-9adf-f15e1e79a660",
   "metadata": {},
   "outputs": [
    {
     "data": {
      "text/plain": [
       "array([[ 1,  2,  3,  7,  8,  9],\n",
       "       [ 4,  5,  6, 10, 11, 12]])"
      ]
     },
     "execution_count": 32,
     "metadata": {},
     "output_type": "execute_result"
    }
   ],
   "source": [
    "np.concatenate([arr8, arr9], axis=1)  ### concatenate column wise"
   ]
  },
  {
   "cell_type": "code",
   "execution_count": 33,
   "id": "b8b6e3b3-d403-4d94-a024-c1f8bb770b82",
   "metadata": {},
   "outputs": [
    {
     "data": {
      "text/plain": [
       "array([[ 1,  2,  3],\n",
       "       [ 4,  5,  6],\n",
       "       [ 7,  8,  9],\n",
       "       [10, 11, 12]])"
      ]
     },
     "execution_count": 33,
     "metadata": {},
     "output_type": "execute_result"
    }
   ],
   "source": [
    "np.concatenate([arr8, arr9], axis=0)   ### concatenate row wise"
   ]
  },
  {
   "cell_type": "code",
   "execution_count": 34,
   "id": "d6267e2d-5ec4-4628-bb31-ab5c285e8672",
   "metadata": {},
   "outputs": [
    {
     "data": {
      "text/plain": [
       "array([[13, 14, 15],\n",
       "       [16, 17, 18]])"
      ]
     },
     "execution_count": 34,
     "metadata": {},
     "output_type": "execute_result"
    }
   ],
   "source": [
    "arr10 = np.arange(13,19).reshape(2,3)\n",
    "arr10"
   ]
  },
  {
   "cell_type": "code",
   "execution_count": 35,
   "id": "59cf71b4-c852-4d23-9429-c73618ee24f7",
   "metadata": {},
   "outputs": [
    {
     "data": {
      "text/plain": [
       "array([[ 1,  2,  3],\n",
       "       [ 4,  5,  6],\n",
       "       [13, 14, 15],\n",
       "       [16, 17, 18]])"
      ]
     },
     "execution_count": 35,
     "metadata": {},
     "output_type": "execute_result"
    }
   ],
   "source": [
    "np.concatenate([arr8, arr10], axis=0)  ## not possible bz row and column size is not same"
   ]
  },
  {
   "cell_type": "markdown",
   "id": "cfd816d1-34a1-4871-bd06-e092beae7d0f",
   "metadata": {},
   "source": [
    "## H-stack"
   ]
  },
  {
   "cell_type": "code",
   "execution_count": 36,
   "id": "731680f9-8e92-4ffa-92ff-65f75e253528",
   "metadata": {},
   "outputs": [
    {
     "data": {
      "text/plain": [
       "array([[1, 2, 3],\n",
       "       [4, 5, 6]])"
      ]
     },
     "execution_count": 36,
     "metadata": {},
     "output_type": "execute_result"
    }
   ],
   "source": [
    "arr8"
   ]
  },
  {
   "cell_type": "code",
   "execution_count": 37,
   "id": "99cfabd5-3880-4bc3-98ea-ccbdec78fd65",
   "metadata": {},
   "outputs": [
    {
     "data": {
      "text/plain": [
       "array([[ 7,  8,  9],\n",
       "       [10, 11, 12]])"
      ]
     },
     "execution_count": 37,
     "metadata": {},
     "output_type": "execute_result"
    }
   ],
   "source": [
    "arr9"
   ]
  },
  {
   "cell_type": "code",
   "execution_count": 38,
   "id": "22691563-c828-4820-965f-aac22a02ab7c",
   "metadata": {},
   "outputs": [
    {
     "data": {
      "text/plain": [
       "array([[ 1,  2,  3,  7,  8,  9],\n",
       "       [ 4,  5,  6, 10, 11, 12]])"
      ]
     },
     "execution_count": 38,
     "metadata": {},
     "output_type": "execute_result"
    }
   ],
   "source": [
    "np.hstack([arr8, arr9])  # horizontal stack joins columns"
   ]
  },
  {
   "cell_type": "code",
   "execution_count": 39,
   "id": "0fd41359-6466-4441-b466-d28dd8972361",
   "metadata": {},
   "outputs": [
    {
     "data": {
      "text/plain": [
       "array([[ 1,  2,  3],\n",
       "       [ 4,  5,  6],\n",
       "       [ 7,  8,  9],\n",
       "       [10, 11, 12]])"
      ]
     },
     "execution_count": 39,
     "metadata": {},
     "output_type": "execute_result"
    }
   ],
   "source": [
    "np.vstack([arr8, arr9])  # vertical stack joins rows"
   ]
  },
  {
   "cell_type": "markdown",
   "id": "cfd3c5cd-3de1-4e5d-ab1c-cf0d97d9b298",
   "metadata": {},
   "source": [
    "## Repeat "
   ]
  },
  {
   "cell_type": "code",
   "execution_count": 40,
   "id": "d3030511-9d30-4b0a-97e0-709935a78b31",
   "metadata": {},
   "outputs": [
    {
     "data": {
      "text/plain": [
       "array([0, 1, 2])"
      ]
     },
     "execution_count": 40,
     "metadata": {},
     "output_type": "execute_result"
    }
   ],
   "source": [
    "arr11 = np.arange(3)\n",
    "arr11"
   ]
  },
  {
   "cell_type": "code",
   "execution_count": 41,
   "id": "2d2492a3-d06f-4569-9e83-16b15fa97737",
   "metadata": {},
   "outputs": [
    {
     "data": {
      "text/plain": [
       "array([0, 0, 0, 1, 1, 1, 2, 2, 2])"
      ]
     },
     "execution_count": 41,
     "metadata": {},
     "output_type": "execute_result"
    }
   ],
   "source": [
    "arr11.repeat(3)"
   ]
  },
  {
   "cell_type": "code",
   "execution_count": 42,
   "id": "b90aa613-bd30-499f-addc-4ac1f3794e31",
   "metadata": {},
   "outputs": [
    {
     "data": {
      "text/plain": [
       "array([0, 0, 0, 0, 0, 0, 0, 0, 0, 0, 0, 1, 1, 1, 1, 1, 1, 1, 1, 1, 1, 1,\n",
       "       2, 2, 2, 2, 2, 2, 2, 2, 2, 2, 2])"
      ]
     },
     "execution_count": 42,
     "metadata": {},
     "output_type": "execute_result"
    }
   ],
   "source": [
    "arr11.repeat(11)"
   ]
  },
  {
   "cell_type": "code",
   "execution_count": 43,
   "id": "c88a78cb-1f44-4ae5-b322-65f96506416a",
   "metadata": {},
   "outputs": [
    {
     "data": {
      "text/plain": [
       "array([0, 0, 0, 1, 1, 1, 1, 1, 1, 1, 1, 1, 1, 1, 1, 1, 1, 1, 2, 2, 2, 2,\n",
       "       2, 2, 2, 2, 2, 2, 2])"
      ]
     },
     "execution_count": 43,
     "metadata": {},
     "output_type": "execute_result"
    }
   ],
   "source": [
    "arr11.repeat([3,15,11])  # (1st elements repeats -3 times, 2nd - 15 times, 3rd times- 11 times)"
   ]
  },
  {
   "cell_type": "markdown",
   "id": "732dc1b0-93ec-43a5-b70f-63d74ea4b2ab",
   "metadata": {},
   "source": [
    "## Identity Matrix"
   ]
  },
  {
   "cell_type": "code",
   "execution_count": 44,
   "id": "5e517b6d-c521-46ea-9ef3-9e31e786af73",
   "metadata": {},
   "outputs": [
    {
     "data": {
      "text/plain": [
       "array([[1., 0., 0.],\n",
       "       [0., 1., 0.],\n",
       "       [0., 0., 1.]])"
      ]
     },
     "execution_count": 44,
     "metadata": {},
     "output_type": "execute_result"
    }
   ],
   "source": [
    "np.eye(3,3)"
   ]
  },
  {
   "cell_type": "code",
   "execution_count": 45,
   "id": "3fb3521c-35d3-4d71-aa3f-06c314bd58c2",
   "metadata": {},
   "outputs": [
    {
     "data": {
      "text/plain": [
       "array([[1., 0., 0., 0.],\n",
       "       [0., 1., 0., 0.],\n",
       "       [0., 0., 1., 0.]])"
      ]
     },
     "execution_count": 45,
     "metadata": {},
     "output_type": "execute_result"
    }
   ],
   "source": [
    "np.eye(3,4)"
   ]
  },
  {
   "cell_type": "code",
   "execution_count": 46,
   "id": "87c5e63a-e37c-4315-9c1e-f886e5ae1ce7",
   "metadata": {},
   "outputs": [
    {
     "data": {
      "text/plain": [
       "array([[1., 0.],\n",
       "       [0., 1.]])"
      ]
     },
     "execution_count": 46,
     "metadata": {},
     "output_type": "execute_result"
    }
   ],
   "source": [
    "np.eye(2,2)"
   ]
  },
  {
   "cell_type": "code",
   "execution_count": 47,
   "id": "8c6a81b1-567f-4375-93a0-2df4da67ec09",
   "metadata": {},
   "outputs": [
    {
     "data": {
      "text/plain": [
       "array([[1., 0., 0., 0.],\n",
       "       [0., 1., 0., 0.],\n",
       "       [0., 0., 1., 0.],\n",
       "       [0., 0., 0., 1.]])"
      ]
     },
     "execution_count": 47,
     "metadata": {},
     "output_type": "execute_result"
    }
   ],
   "source": [
    "np.eye(4,4)"
   ]
  },
  {
   "cell_type": "code",
   "execution_count": 48,
   "id": "a0f1f60e-bc37-4585-bf65-5e1b65b99cc6",
   "metadata": {},
   "outputs": [
    {
     "data": {
      "text/plain": [
       "array([[0., 0., 0., 0., 1., 0., 0.],\n",
       "       [0., 0., 0., 0., 0., 1., 0.],\n",
       "       [0., 0., 0., 0., 0., 0., 1.]])"
      ]
     },
     "execution_count": 48,
     "metadata": {},
     "output_type": "execute_result"
    }
   ],
   "source": [
    "np.eye(3,7, 4) # (number of rows,columns and 0...4 index number)"
   ]
  },
  {
   "cell_type": "code",
   "execution_count": 49,
   "id": "8f155066-4c6b-46a0-abb7-ae352c1ee972",
   "metadata": {},
   "outputs": [
    {
     "data": {
      "text/plain": [
       "array([[1., 1., 1., 1.],\n",
       "       [1., 1., 1., 1.],\n",
       "       [1., 1., 1., 1.]])"
      ]
     },
     "execution_count": 49,
     "metadata": {},
     "output_type": "execute_result"
    }
   ],
   "source": [
    "np.ones((3,4)) # Unit Matrix"
   ]
  },
  {
   "cell_type": "code",
   "execution_count": 50,
   "id": "85944959-e757-46be-988f-5ea8b335a636",
   "metadata": {},
   "outputs": [
    {
     "data": {
      "text/plain": [
       "array([[0., 0., 0., 0., 0., 0.],\n",
       "       [0., 0., 0., 0., 0., 0.],\n",
       "       [0., 0., 0., 0., 0., 0.]])"
      ]
     },
     "execution_count": 50,
     "metadata": {},
     "output_type": "execute_result"
    }
   ],
   "source": [
    "np.zeros((3,6)) # Null Matrix"
   ]
  },
  {
   "cell_type": "markdown",
   "id": "806031ef-cb3f-45f4-9a67-3c985910f85b",
   "metadata": {},
   "source": [
    "## Split"
   ]
  },
  {
   "cell_type": "code",
   "execution_count": 51,
   "id": "12793807-ff97-4a68-96e4-393f40f1c3b7",
   "metadata": {},
   "outputs": [
    {
     "data": {
      "text/plain": [
       "array([[  1,   2,   3,   4,   5,   6,   7,   8,   9,  10],\n",
       "       [ 11,  12,  13,  14,  15,  16,  17,  18,  19,  20],\n",
       "       [ 21,  22,  23,  24,  25,  26,  27,  28,  29,  30],\n",
       "       [ 31,  32,  33,  34,  35,  36,  37,  38,  39,  40],\n",
       "       [ 41,  42,  43,  44,  45,  46,  47,  48,  49,  50],\n",
       "       [ 51,  52,  53,  54,  55,  56,  57,  58,  59,  60],\n",
       "       [ 61,  62,  63,  64,  65,  66,  67,  68,  69,  70],\n",
       "       [ 71,  72,  73,  74,  75,  76,  77,  78,  79,  80],\n",
       "       [ 81,  82,  83,  84,  85,  86,  87,  88,  89,  90],\n",
       "       [ 91,  92,  93,  94,  95,  96,  97,  98,  99, 100]])"
      ]
     },
     "execution_count": 51,
     "metadata": {},
     "output_type": "execute_result"
    }
   ],
   "source": [
    "arr12 = np.linspace(1,100, 100, dtype = \"int\").reshape(10,10)\n",
    "arr12"
   ]
  },
  {
   "cell_type": "code",
   "execution_count": 52,
   "id": "84f2da39-a171-443f-ae97-1a2d67e2c629",
   "metadata": {},
   "outputs": [
    {
     "data": {
      "text/plain": [
       "[array([[ 1,  2,  3,  4,  5,  6,  7,  8,  9, 10],\n",
       "        [11, 12, 13, 14, 15, 16, 17, 18, 19, 20],\n",
       "        [21, 22, 23, 24, 25, 26, 27, 28, 29, 30]]),\n",
       " array([[31, 32, 33, 34, 35, 36, 37, 38, 39, 40],\n",
       "        [41, 42, 43, 44, 45, 46, 47, 48, 49, 50],\n",
       "        [51, 52, 53, 54, 55, 56, 57, 58, 59, 60]]),\n",
       " array([[ 61,  62,  63,  64,  65,  66,  67,  68,  69,  70],\n",
       "        [ 71,  72,  73,  74,  75,  76,  77,  78,  79,  80],\n",
       "        [ 81,  82,  83,  84,  85,  86,  87,  88,  89,  90],\n",
       "        [ 91,  92,  93,  94,  95,  96,  97,  98,  99, 100]])]"
      ]
     },
     "execution_count": 52,
     "metadata": {},
     "output_type": "execute_result"
    }
   ],
   "source": [
    "np.split(arr12, [3, 6])   "
   ]
  },
  {
   "cell_type": "code",
   "execution_count": 53,
   "id": "dc950072-6097-4226-8e72-bf12a8b95bd9",
   "metadata": {},
   "outputs": [
    {
     "data": {
      "text/plain": [
       "[array([[ 1,  2,  3,  4,  5,  6,  7,  8,  9, 10],\n",
       "        [11, 12, 13, 14, 15, 16, 17, 18, 19, 20],\n",
       "        [21, 22, 23, 24, 25, 26, 27, 28, 29, 30]]),\n",
       " array([[31, 32, 33, 34, 35, 36, 37, 38, 39, 40],\n",
       "        [41, 42, 43, 44, 45, 46, 47, 48, 49, 50],\n",
       "        [51, 52, 53, 54, 55, 56, 57, 58, 59, 60]]),\n",
       " array([[ 61,  62,  63,  64,  65,  66,  67,  68,  69,  70],\n",
       "        [ 71,  72,  73,  74,  75,  76,  77,  78,  79,  80],\n",
       "        [ 81,  82,  83,  84,  85,  86,  87,  88,  89,  90],\n",
       "        [ 91,  92,  93,  94,  95,  96,  97,  98,  99, 100]])]"
      ]
     },
     "execution_count": 53,
     "metadata": {},
     "output_type": "execute_result"
    }
   ],
   "source": [
    "np.split(arr12, [3,6])"
   ]
  },
  {
   "cell_type": "code",
   "execution_count": 54,
   "id": "f1da97d8-ba9c-445e-b393-bf6f0925846c",
   "metadata": {},
   "outputs": [
    {
     "data": {
      "text/plain": [
       "[array([[ 1,  2,  3,  4,  5,  6,  7,  8,  9, 10],\n",
       "        [11, 12, 13, 14, 15, 16, 17, 18, 19, 20],\n",
       "        [21, 22, 23, 24, 25, 26, 27, 28, 29, 30]]),\n",
       " array([[ 31,  32,  33,  34,  35,  36,  37,  38,  39,  40],\n",
       "        [ 41,  42,  43,  44,  45,  46,  47,  48,  49,  50],\n",
       "        [ 51,  52,  53,  54,  55,  56,  57,  58,  59,  60],\n",
       "        [ 61,  62,  63,  64,  65,  66,  67,  68,  69,  70],\n",
       "        [ 71,  72,  73,  74,  75,  76,  77,  78,  79,  80],\n",
       "        [ 81,  82,  83,  84,  85,  86,  87,  88,  89,  90],\n",
       "        [ 91,  92,  93,  94,  95,  96,  97,  98,  99, 100]])]"
      ]
     },
     "execution_count": 54,
     "metadata": {},
     "output_type": "execute_result"
    }
   ],
   "source": [
    "np.split(arr12, [3])"
   ]
  },
  {
   "cell_type": "code",
   "execution_count": 64,
   "id": "5be4445d-cfe7-4079-9b10-e407ae3b1eab",
   "metadata": {},
   "outputs": [
    {
     "data": {
      "text/plain": [
       "[array([[ 1,  2],\n",
       "        [11, 12],\n",
       "        [21, 22],\n",
       "        [31, 32],\n",
       "        [41, 42],\n",
       "        [51, 52],\n",
       "        [61, 62],\n",
       "        [71, 72],\n",
       "        [81, 82],\n",
       "        [91, 92]]),\n",
       " array([[ 3,  4],\n",
       "        [13, 14],\n",
       "        [23, 24],\n",
       "        [33, 34],\n",
       "        [43, 44],\n",
       "        [53, 54],\n",
       "        [63, 64],\n",
       "        [73, 74],\n",
       "        [83, 84],\n",
       "        [93, 94]]),\n",
       " array([[ 5,  6],\n",
       "        [15, 16],\n",
       "        [25, 26],\n",
       "        [35, 36],\n",
       "        [45, 46],\n",
       "        [55, 56],\n",
       "        [65, 66],\n",
       "        [75, 76],\n",
       "        [85, 86],\n",
       "        [95, 96]]),\n",
       " array([[ 7,  8],\n",
       "        [17, 18],\n",
       "        [27, 28],\n",
       "        [37, 38],\n",
       "        [47, 48],\n",
       "        [57, 58],\n",
       "        [67, 68],\n",
       "        [77, 78],\n",
       "        [87, 88],\n",
       "        [97, 98]]),\n",
       " array([[  9,  10],\n",
       "        [ 19,  20],\n",
       "        [ 29,  30],\n",
       "        [ 39,  40],\n",
       "        [ 49,  50],\n",
       "        [ 59,  60],\n",
       "        [ 69,  70],\n",
       "        [ 79,  80],\n",
       "        [ 89,  90],\n",
       "        [ 99, 100]])]"
      ]
     },
     "execution_count": 64,
     "metadata": {},
     "output_type": "execute_result"
    }
   ],
   "source": [
    "np.split(arr12, [2,4,6,8], axis = 1)"
   ]
  },
  {
   "cell_type": "code",
   "execution_count": 56,
   "id": "c81ed3c7-6adf-435b-9bbc-03394b0a4eae",
   "metadata": {},
   "outputs": [],
   "source": [
    "sp1,sp2,sp3 = np.split(arr12, [4,7], axis = 1)"
   ]
  },
  {
   "cell_type": "code",
   "execution_count": 57,
   "id": "97884ee7-e48f-44d8-858b-42f59a1dca92",
   "metadata": {},
   "outputs": [
    {
     "data": {
      "text/plain": [
       "array([[ 1,  2,  3,  4],\n",
       "       [11, 12, 13, 14],\n",
       "       [21, 22, 23, 24],\n",
       "       [31, 32, 33, 34],\n",
       "       [41, 42, 43, 44],\n",
       "       [51, 52, 53, 54],\n",
       "       [61, 62, 63, 64],\n",
       "       [71, 72, 73, 74],\n",
       "       [81, 82, 83, 84],\n",
       "       [91, 92, 93, 94]])"
      ]
     },
     "execution_count": 57,
     "metadata": {},
     "output_type": "execute_result"
    }
   ],
   "source": [
    "sp1"
   ]
  },
  {
   "cell_type": "code",
   "execution_count": 58,
   "id": "c6a3b78b-1ef3-4bb0-8d22-d85ea3354f16",
   "metadata": {},
   "outputs": [
    {
     "data": {
      "text/plain": [
       "array([[ 5,  6,  7],\n",
       "       [15, 16, 17],\n",
       "       [25, 26, 27],\n",
       "       [35, 36, 37],\n",
       "       [45, 46, 47],\n",
       "       [55, 56, 57],\n",
       "       [65, 66, 67],\n",
       "       [75, 76, 77],\n",
       "       [85, 86, 87],\n",
       "       [95, 96, 97]])"
      ]
     },
     "execution_count": 58,
     "metadata": {},
     "output_type": "execute_result"
    }
   ],
   "source": [
    "sp2"
   ]
  },
  {
   "cell_type": "code",
   "execution_count": 59,
   "id": "74af4b69-7882-4945-9599-87e718f41eb1",
   "metadata": {},
   "outputs": [
    {
     "data": {
      "text/plain": [
       "array([[  8,   9,  10],\n",
       "       [ 18,  19,  20],\n",
       "       [ 28,  29,  30],\n",
       "       [ 38,  39,  40],\n",
       "       [ 48,  49,  50],\n",
       "       [ 58,  59,  60],\n",
       "       [ 68,  69,  70],\n",
       "       [ 78,  79,  80],\n",
       "       [ 88,  89,  90],\n",
       "       [ 98,  99, 100]])"
      ]
     },
     "execution_count": 59,
     "metadata": {},
     "output_type": "execute_result"
    }
   ],
   "source": [
    "sp3"
   ]
  },
  {
   "cell_type": "code",
   "execution_count": null,
   "id": "15e9db4e-ad1b-4a60-8372-2398c8891689",
   "metadata": {},
   "outputs": [],
   "source": []
  }
 ],
 "metadata": {
  "kernelspec": {
   "display_name": "Python 3 (ipykernel)",
   "language": "python",
   "name": "python3"
  },
  "language_info": {
   "codemirror_mode": {
    "name": "ipython",
    "version": 3
   },
   "file_extension": ".py",
   "mimetype": "text/x-python",
   "name": "python",
   "nbconvert_exporter": "python",
   "pygments_lexer": "ipython3",
   "version": "3.10.8"
  }
 },
 "nbformat": 4,
 "nbformat_minor": 5
}
