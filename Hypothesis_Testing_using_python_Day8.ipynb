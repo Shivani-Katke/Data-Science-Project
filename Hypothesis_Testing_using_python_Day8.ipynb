{
 "cells": [
  {
   "cell_type": "code",
   "execution_count": 1,
   "id": "6cfccb07-fed3-407f-b770-9edf4901d44c",
   "metadata": {},
   "outputs": [],
   "source": [
    "import numpy as np\n",
    "import pandas as pd\n",
    "import matplotlib.pyplot as plt\n",
    "import seaborn as sns\n",
    "import scipy as sp\n",
    "from scipy.stats import shapiro, spearmanr, chi2_contingency,ttest_ind\n",
    "from sklearn.datasets import load_wine, make_classification\n",
    "import warnings\n",
    "warnings.filterwarnings(\"ignore\")"
   ]
  },
  {
   "cell_type": "code",
   "execution_count": 10,
   "id": "cccc7cab-b7b6-432c-af7e-0917000dad23",
   "metadata": {},
   "outputs": [],
   "source": [
    "# Pre defined dataset in sklearn\n",
    "wine = load_wine()"
   ]
  },
  {
   "cell_type": "code",
   "execution_count": 3,
   "id": "148cd27e-6905-41c1-b0b9-9883aa3d109f",
   "metadata": {},
   "outputs": [],
   "source": [
    "# creating different data frame\n",
    "wine_df = pd.DataFrame(wine.data, columns=wine.feature_names)\n",
    "wine_df[\"target\"] = wine.target"
   ]
  },
  {
   "cell_type": "code",
   "execution_count": 4,
   "id": "f728afee-ebe8-4bf5-a95a-716f48e7008d",
   "metadata": {},
   "outputs": [],
   "source": [
    "data, target = make_classification(n_samples=400, n_features = 5, n_classes=2)"
   ]
  },
  {
   "cell_type": "code",
   "execution_count": 5,
   "id": "b3ed1935-0827-4fee-97b2-59e32831f4f4",
   "metadata": {},
   "outputs": [],
   "source": [
    "df = pd.DataFrame(data, columns= [f\"feature{i}\" for i in range(1,6)])\n",
    "df[\"target\"] = target"
   ]
  },
  {
   "cell_type": "code",
   "execution_count": 15,
   "id": "bad3aeeb-36dd-4fe8-872e-c64d9bf8fa5b",
   "metadata": {},
   "outputs": [],
   "source": [
    "wine = wine_df.copy()"
   ]
  },
  {
   "cell_type": "code",
   "execution_count": 7,
   "id": "bcb843d6-554e-4043-b18b-ef9b94951ee1",
   "metadata": {},
   "outputs": [
    {
     "data": {
      "text/html": [
       "<div>\n",
       "<style scoped>\n",
       "    .dataframe tbody tr th:only-of-type {\n",
       "        vertical-align: middle;\n",
       "    }\n",
       "\n",
       "    .dataframe tbody tr th {\n",
       "        vertical-align: top;\n",
       "    }\n",
       "\n",
       "    .dataframe thead th {\n",
       "        text-align: right;\n",
       "    }\n",
       "</style>\n",
       "<table border=\"1\" class=\"dataframe\">\n",
       "  <thead>\n",
       "    <tr style=\"text-align: right;\">\n",
       "      <th></th>\n",
       "      <th>alcohol</th>\n",
       "      <th>malic_acid</th>\n",
       "      <th>ash</th>\n",
       "      <th>alcalinity_of_ash</th>\n",
       "      <th>magnesium</th>\n",
       "      <th>total_phenols</th>\n",
       "      <th>flavanoids</th>\n",
       "      <th>nonflavanoid_phenols</th>\n",
       "      <th>proanthocyanins</th>\n",
       "      <th>color_intensity</th>\n",
       "      <th>hue</th>\n",
       "      <th>od280/od315_of_diluted_wines</th>\n",
       "      <th>proline</th>\n",
       "      <th>target</th>\n",
       "    </tr>\n",
       "  </thead>\n",
       "  <tbody>\n",
       "    <tr>\n",
       "      <th>0</th>\n",
       "      <td>14.23</td>\n",
       "      <td>1.71</td>\n",
       "      <td>2.43</td>\n",
       "      <td>15.6</td>\n",
       "      <td>127.0</td>\n",
       "      <td>2.80</td>\n",
       "      <td>3.06</td>\n",
       "      <td>0.28</td>\n",
       "      <td>2.29</td>\n",
       "      <td>5.64</td>\n",
       "      <td>1.04</td>\n",
       "      <td>3.92</td>\n",
       "      <td>1065.0</td>\n",
       "      <td>0</td>\n",
       "    </tr>\n",
       "    <tr>\n",
       "      <th>1</th>\n",
       "      <td>13.20</td>\n",
       "      <td>1.78</td>\n",
       "      <td>2.14</td>\n",
       "      <td>11.2</td>\n",
       "      <td>100.0</td>\n",
       "      <td>2.65</td>\n",
       "      <td>2.76</td>\n",
       "      <td>0.26</td>\n",
       "      <td>1.28</td>\n",
       "      <td>4.38</td>\n",
       "      <td>1.05</td>\n",
       "      <td>3.40</td>\n",
       "      <td>1050.0</td>\n",
       "      <td>0</td>\n",
       "    </tr>\n",
       "    <tr>\n",
       "      <th>2</th>\n",
       "      <td>13.16</td>\n",
       "      <td>2.36</td>\n",
       "      <td>2.67</td>\n",
       "      <td>18.6</td>\n",
       "      <td>101.0</td>\n",
       "      <td>2.80</td>\n",
       "      <td>3.24</td>\n",
       "      <td>0.30</td>\n",
       "      <td>2.81</td>\n",
       "      <td>5.68</td>\n",
       "      <td>1.03</td>\n",
       "      <td>3.17</td>\n",
       "      <td>1185.0</td>\n",
       "      <td>0</td>\n",
       "    </tr>\n",
       "    <tr>\n",
       "      <th>3</th>\n",
       "      <td>14.37</td>\n",
       "      <td>1.95</td>\n",
       "      <td>2.50</td>\n",
       "      <td>16.8</td>\n",
       "      <td>113.0</td>\n",
       "      <td>3.85</td>\n",
       "      <td>3.49</td>\n",
       "      <td>0.24</td>\n",
       "      <td>2.18</td>\n",
       "      <td>7.80</td>\n",
       "      <td>0.86</td>\n",
       "      <td>3.45</td>\n",
       "      <td>1480.0</td>\n",
       "      <td>0</td>\n",
       "    </tr>\n",
       "    <tr>\n",
       "      <th>4</th>\n",
       "      <td>13.24</td>\n",
       "      <td>2.59</td>\n",
       "      <td>2.87</td>\n",
       "      <td>21.0</td>\n",
       "      <td>118.0</td>\n",
       "      <td>2.80</td>\n",
       "      <td>2.69</td>\n",
       "      <td>0.39</td>\n",
       "      <td>1.82</td>\n",
       "      <td>4.32</td>\n",
       "      <td>1.04</td>\n",
       "      <td>2.93</td>\n",
       "      <td>735.0</td>\n",
       "      <td>0</td>\n",
       "    </tr>\n",
       "  </tbody>\n",
       "</table>\n",
       "</div>"
      ],
      "text/plain": [
       "   alcohol  malic_acid   ash  alcalinity_of_ash  magnesium  total_phenols  \\\n",
       "0    14.23        1.71  2.43               15.6      127.0           2.80   \n",
       "1    13.20        1.78  2.14               11.2      100.0           2.65   \n",
       "2    13.16        2.36  2.67               18.6      101.0           2.80   \n",
       "3    14.37        1.95  2.50               16.8      113.0           3.85   \n",
       "4    13.24        2.59  2.87               21.0      118.0           2.80   \n",
       "\n",
       "   flavanoids  nonflavanoid_phenols  proanthocyanins  color_intensity   hue  \\\n",
       "0        3.06                  0.28             2.29             5.64  1.04   \n",
       "1        2.76                  0.26             1.28             4.38  1.05   \n",
       "2        3.24                  0.30             2.81             5.68  1.03   \n",
       "3        3.49                  0.24             2.18             7.80  0.86   \n",
       "4        2.69                  0.39             1.82             4.32  1.04   \n",
       "\n",
       "   od280/od315_of_diluted_wines  proline  target  \n",
       "0                          3.92   1065.0       0  \n",
       "1                          3.40   1050.0       0  \n",
       "2                          3.17   1185.0       0  \n",
       "3                          3.45   1480.0       0  \n",
       "4                          2.93    735.0       0  "
      ]
     },
     "execution_count": 7,
     "metadata": {},
     "output_type": "execute_result"
    }
   ],
   "source": [
    "wine.head()"
   ]
  },
  {
   "cell_type": "code",
   "execution_count": 8,
   "id": "b9caf920-3bcb-4199-b0cc-bf553790bee3",
   "metadata": {},
   "outputs": [
    {
     "data": {
      "text/html": [
       "<div>\n",
       "<style scoped>\n",
       "    .dataframe tbody tr th:only-of-type {\n",
       "        vertical-align: middle;\n",
       "    }\n",
       "\n",
       "    .dataframe tbody tr th {\n",
       "        vertical-align: top;\n",
       "    }\n",
       "\n",
       "    .dataframe thead th {\n",
       "        text-align: right;\n",
       "    }\n",
       "</style>\n",
       "<table border=\"1\" class=\"dataframe\">\n",
       "  <thead>\n",
       "    <tr style=\"text-align: right;\">\n",
       "      <th></th>\n",
       "      <th>feature1</th>\n",
       "      <th>feature2</th>\n",
       "      <th>feature3</th>\n",
       "      <th>feature4</th>\n",
       "      <th>feature5</th>\n",
       "      <th>target</th>\n",
       "    </tr>\n",
       "  </thead>\n",
       "  <tbody>\n",
       "    <tr>\n",
       "      <th>0</th>\n",
       "      <td>-0.152907</td>\n",
       "      <td>1.922005</td>\n",
       "      <td>0.239223</td>\n",
       "      <td>-1.560454</td>\n",
       "      <td>-1.190211</td>\n",
       "      <td>1</td>\n",
       "    </tr>\n",
       "    <tr>\n",
       "      <th>1</th>\n",
       "      <td>-0.240570</td>\n",
       "      <td>-1.475390</td>\n",
       "      <td>0.944994</td>\n",
       "      <td>2.285713</td>\n",
       "      <td>1.272683</td>\n",
       "      <td>1</td>\n",
       "    </tr>\n",
       "    <tr>\n",
       "      <th>2</th>\n",
       "      <td>1.013379</td>\n",
       "      <td>-1.034107</td>\n",
       "      <td>-1.277887</td>\n",
       "      <td>-0.268087</td>\n",
       "      <td>0.274799</td>\n",
       "      <td>0</td>\n",
       "    </tr>\n",
       "    <tr>\n",
       "      <th>3</th>\n",
       "      <td>-1.115366</td>\n",
       "      <td>-0.866504</td>\n",
       "      <td>2.446912</td>\n",
       "      <td>3.165985</td>\n",
       "      <td>1.349310</td>\n",
       "      <td>1</td>\n",
       "    </tr>\n",
       "    <tr>\n",
       "      <th>4</th>\n",
       "      <td>-0.886756</td>\n",
       "      <td>0.420764</td>\n",
       "      <td>-1.102179</td>\n",
       "      <td>-1.454459</td>\n",
       "      <td>-0.627847</td>\n",
       "      <td>0</td>\n",
       "    </tr>\n",
       "  </tbody>\n",
       "</table>\n",
       "</div>"
      ],
      "text/plain": [
       "   feature1  feature2  feature3  feature4  feature5  target\n",
       "0 -0.152907  1.922005  0.239223 -1.560454 -1.190211       1\n",
       "1 -0.240570 -1.475390  0.944994  2.285713  1.272683       1\n",
       "2  1.013379 -1.034107 -1.277887 -0.268087  0.274799       0\n",
       "3 -1.115366 -0.866504  2.446912  3.165985  1.349310       1\n",
       "4 -0.886756  0.420764 -1.102179 -1.454459 -0.627847       0"
      ]
     },
     "execution_count": 8,
     "metadata": {},
     "output_type": "execute_result"
    }
   ],
   "source": [
    "df.head()"
   ]
  },
  {
   "cell_type": "code",
   "execution_count": 17,
   "id": "e58eb57e-e75d-4665-b638-5f81f794eb3f",
   "metadata": {
    "scrolled": true
   },
   "outputs": [
    {
     "data": {
      "image/png": "[encoded data removed]",
      "text/plain": [
       "<Figure size 640x480 with 1 Axes>"
      ]
     },
     "metadata": {},
     "output_type": "display_data"
    }
   ],
   "source": [
    "# first dataframe\n",
    "plt.title(\"Alcohol column Distribution\")\n",
    "sns.histplot(wine[\"alcohol\"], kde = True, alpha = 0.7)\n",
    "plt.show()"
   ]
  },
  {
   "cell_type": "code",
   "execution_count": 19,
   "id": "9ddd5c63-3574-4cfd-9dba-c58b9c04fbf0",
   "metadata": {},
   "outputs": [
    {
     "name": "stdout",
     "output_type": "stream",
     "text": [
      "Shapiro statistical value:  0.981804609298706\n",
      "Shapiro p_value:  0.020050711929798126\n",
      "Data is not normally distributed (rejecting h0)\n"
     ]
    }
   ],
   "source": [
    "# H0 -> Data is normally distributed\n",
    "# Ha -> Data is not normally distributed\n",
    "\n",
    "# checking whether to accpet the null hypothesis or reject it.\n",
    "sh_stat, sh_p = shapiro(wine[\"alcohol\"])\n",
    "\n",
    "print(\"Shapiro statistical value: \", sh_stat)\n",
    "print(\"Shapiro p_value: \", sh_p)\n",
    "\n",
    "alpha = 0.05\n",
    "if sh_p > alpha:\n",
    "    print(\"Data is normally distributed (accepting h0)\")\n",
    "else:\n",
    "    print(\"Data is not normally distributed (rejecting h0)\")\n"
   ]
  },
  {
   "cell_type": "code",
   "execution_count": 20,
   "id": "8ff1e68a-b1ae-4d48-844e-0af435c163fd",
   "metadata": {},
   "outputs": [
    {
     "data": {
      "image/png": "[encoded data removed]",
      "text/plain": [
       "<Figure size 640x480 with 1 Axes>"
      ]
     },
     "metadata": {},
     "output_type": "display_data"
    }
   ],
   "source": [
    "# second data frome \n",
    "plt.title(\"Feature1 column Distribution\")\n",
    "sns.histplot(df[\"feature1\"], kde = True, alpha = 0.7)\n",
    "plt.show()"
   ]
  },
  {
   "cell_type": "code",
   "execution_count": 29,
   "id": "16d9744c-2404-4236-9ad3-05fc83374d04",
   "metadata": {},
   "outputs": [
    {
     "name": "stdout",
     "output_type": "stream",
     "text": [
      "Shapiro statistical value: 0.99807\n",
      "Shapiro p_value: 0.93440\n",
      "Data is normally distributed (accepting h0)\n"
     ]
    }
   ],
   "source": [
    "# H0 -> Data is normally distributed\n",
    "# Ha -> Data is not normally distributed\n",
    "\n",
    "# checking whether to accpet the null hypothesis or reject it.\n",
    "sh_stat, sh_p = shapiro(df[\"feature1\"])\n",
    "\n",
    "print(\"Shapiro statistical value: %.5f\" %sh_stat)\n",
    "print(\"Shapiro p_value: %.5f\" %sh_p)\n",
    "\n",
    "alpha = 0.05\n",
    "if sh_p > alpha:\n",
    "    print(\"Data is normally distributed (accepting h0)\")\n",
    "else:\n",
    "    print(\"Data is not normally distributed (rejecting h0)\")"
   ]
  },
  {
   "cell_type": "code",
   "execution_count": 30,
   "id": "b6a92343-c19d-427c-872a-bb2fb56624be",
   "metadata": {},
   "outputs": [
    {
     "data": {
      "image/png": "[encoded data removed]",
      "text/plain": [
       "<Figure size 640x480 with 1 Axes>"
      ]
     },
     "metadata": {},
     "output_type": "display_data"
    }
   ],
   "source": [
    "# third dataframe \n",
    "plt.title(\"total_phenols and malic_acid column Distribution\")\n",
    "sns.scatterplot(x = wine[\"total_phenols\"],y = wine[\"malic_acid\"], alpha = 0.7)\n",
    "plt.show()"
   ]
  },
  {
   "cell_type": "code",
   "execution_count": 38,
   "id": "13da09e0-5d38-45ab-991c-aa6b111b062d",
   "metadata": {},
   "outputs": [
    {
     "name": "stdout",
     "output_type": "stream",
     "text": [
      "Spearman statistical value: -0.28022\n",
      "Spearman p_value: 0.00015\n",
      "Total_phenol and malic_acid are not independent (rejecting h0)\n"
     ]
    }
   ],
   "source": [
    "# H0 -> total_phenols and malic acid are independent\n",
    "# Ha -> total_phenols and malic acid are not independent\n",
    "\n",
    "# checking whether to accpet the null hypothesis or reject it.\n",
    "sh_stat, sh_p = spearmanr(wine[\"total_phenols\"], wine[\"malic_acid\"])\n",
    "\n",
    "print(\"Spearman statistical value: %.5f\" %sh_stat)\n",
    "print(\"Spearman p_value: %.5f\" %sh_p)\n",
    "\n",
    "alpha = 0.05\n",
    "if sh_p > alpha:\n",
    "    print(\"Total_phenol and malic_acid are independent(accepting h0)\")\n",
    "else:\n",
    "    print(\"Total_phenol and malic_acid are not independent (rejecting h0)\")"
   ]
  },
  {
   "cell_type": "code",
   "execution_count": null,
   "id": "a1a121a9-eba1-4b8b-a3ee-6d84a0adb2d3",
   "metadata": {},
   "outputs": [],
   "source": []
  },
  {
   "cell_type": "code",
   "execution_count": 40,
   "id": "ffd93937-0a30-4e5f-8391-6c2edab5fa57",
   "metadata": {},
   "outputs": [
    {
     "data": {
      "image/png": "[encoded data removed]",
      "text/plain": [
       "<Figure size 640x480 with 1 Axes>"
      ]
     },
     "metadata": {},
     "output_type": "display_data"
    }
   ],
   "source": [
    "# fourth dataframe \n",
    "plt.title(\"feature 1 and feature 2 column Distribution\")\n",
    "sns.scatterplot(x = df[\"feature1\"],y = df[\"feature2\"], alpha = 0.7)\n",
    "plt.show()"
   ]
  },
  {
   "cell_type": "code",
   "execution_count": 41,
   "id": "43386820-7c8b-438d-a67f-76060a6abaee",
   "metadata": {},
   "outputs": [
    {
     "name": "stdout",
     "output_type": "stream",
     "text": [
      "Spearman statistical value: 0.01178\n",
      "Spearman p_value: 0.81426\n",
      "feature 1 and feature2 are independent(accepting h0)\n"
     ]
    }
   ],
   "source": [
    "# H0 -> feature 1 and feature2 acid are independent\n",
    "# Ha ->  feature 1 and feature2 acid are not independent\n",
    "\n",
    "# checking whether to accpet the null hypothesis or reject it.\n",
    "sh_stat, sh_p = spearmanr(df[\"feature1\"], df[\"feature2\"])\n",
    "\n",
    "print(\"Spearman statistical value: %.5f\" %sh_stat)\n",
    "print(\"Spearman p_value: %.5f\" %sh_p)\n",
    "\n",
    "alpha = 0.05\n",
    "if sh_p > alpha:\n",
    "    print(\"feature 1 and feature2 are independent(accepting h0)\")\n",
    "else:\n",
    "    print(\"feature 1 and feature2 are not independent (rejecting h0)\")"
   ]
  },
  {
   "cell_type": "markdown",
   "id": "79c7cbde-21b8-4acf-9cfe-59602fac57ff",
   "metadata": {},
   "source": [
    "### Example 5"
   ]
  },
  {
   "cell_type": "code",
   "execution_count": 52,
   "id": "f7763c05-6a31-4326-8289-68aa20693009",
   "metadata": {},
   "outputs": [
    {
     "data": {
      "text/plain": [
       "0      2\n",
       "1      1\n",
       "2      3\n",
       "3      2\n",
       "4      1\n",
       "      ..\n",
       "173    0\n",
       "174    1\n",
       "175    1\n",
       "176    1\n",
       "177    1\n",
       "Name: proanthocyanins, Length: 178, dtype: category\n",
       "Categories (4, int64): [0 < 1 < 2 < 3]"
      ]
     },
     "execution_count": 52,
     "metadata": {},
     "output_type": "execute_result"
    }
   ],
   "source": [
    "cat = pd.cut(wine[\"proanthocyanins\"], bins = 4, labels = [0,1,2,3])\n",
    "cat"
   ]
  },
  {
   "cell_type": "code",
   "execution_count": 53,
   "id": "c4b5bd63-b079-45a5-b118-d77a27c4c425",
   "metadata": {},
   "outputs": [
    {
     "data": {
      "text/html": [
       "<div>\n",
       "<style scoped>\n",
       "    .dataframe tbody tr th:only-of-type {\n",
       "        vertical-align: middle;\n",
       "    }\n",
       "\n",
       "    .dataframe tbody tr th {\n",
       "        vertical-align: top;\n",
       "    }\n",
       "\n",
       "    .dataframe thead th {\n",
       "        text-align: right;\n",
       "    }\n",
       "</style>\n",
       "<table border=\"1\" class=\"dataframe\">\n",
       "  <thead>\n",
       "    <tr style=\"text-align: right;\">\n",
       "      <th></th>\n",
       "      <th>alcohol</th>\n",
       "      <th>malic_acid</th>\n",
       "      <th>ash</th>\n",
       "      <th>alcalinity_of_ash</th>\n",
       "      <th>magnesium</th>\n",
       "      <th>total_phenols</th>\n",
       "      <th>flavanoids</th>\n",
       "      <th>nonflavanoid_phenols</th>\n",
       "      <th>proanthocyanins</th>\n",
       "      <th>color_intensity</th>\n",
       "      <th>hue</th>\n",
       "      <th>od280/od315_of_diluted_wines</th>\n",
       "      <th>proline</th>\n",
       "      <th>target</th>\n",
       "    </tr>\n",
       "  </thead>\n",
       "  <tbody>\n",
       "    <tr>\n",
       "      <th>0</th>\n",
       "      <td>14.23</td>\n",
       "      <td>1.71</td>\n",
       "      <td>2.43</td>\n",
       "      <td>15.6</td>\n",
       "      <td>127.0</td>\n",
       "      <td>2.80</td>\n",
       "      <td>c</td>\n",
       "      <td>0.28</td>\n",
       "      <td>2</td>\n",
       "      <td>5.64</td>\n",
       "      <td>1.04</td>\n",
       "      <td>3.92</td>\n",
       "      <td>1065.0</td>\n",
       "      <td>0</td>\n",
       "    </tr>\n",
       "    <tr>\n",
       "      <th>1</th>\n",
       "      <td>13.20</td>\n",
       "      <td>1.78</td>\n",
       "      <td>2.14</td>\n",
       "      <td>11.2</td>\n",
       "      <td>100.0</td>\n",
       "      <td>2.65</td>\n",
       "      <td>c</td>\n",
       "      <td>0.26</td>\n",
       "      <td>1</td>\n",
       "      <td>4.38</td>\n",
       "      <td>1.05</td>\n",
       "      <td>3.40</td>\n",
       "      <td>1050.0</td>\n",
       "      <td>0</td>\n",
       "    </tr>\n",
       "    <tr>\n",
       "      <th>2</th>\n",
       "      <td>13.16</td>\n",
       "      <td>2.36</td>\n",
       "      <td>2.67</td>\n",
       "      <td>18.6</td>\n",
       "      <td>101.0</td>\n",
       "      <td>2.80</td>\n",
       "      <td>c</td>\n",
       "      <td>0.30</td>\n",
       "      <td>3</td>\n",
       "      <td>5.68</td>\n",
       "      <td>1.03</td>\n",
       "      <td>3.17</td>\n",
       "      <td>1185.0</td>\n",
       "      <td>0</td>\n",
       "    </tr>\n",
       "    <tr>\n",
       "      <th>3</th>\n",
       "      <td>14.37</td>\n",
       "      <td>1.95</td>\n",
       "      <td>2.50</td>\n",
       "      <td>16.8</td>\n",
       "      <td>113.0</td>\n",
       "      <td>3.85</td>\n",
       "      <td>c</td>\n",
       "      <td>0.24</td>\n",
       "      <td>2</td>\n",
       "      <td>7.80</td>\n",
       "      <td>0.86</td>\n",
       "      <td>3.45</td>\n",
       "      <td>1480.0</td>\n",
       "      <td>0</td>\n",
       "    </tr>\n",
       "    <tr>\n",
       "      <th>4</th>\n",
       "      <td>13.24</td>\n",
       "      <td>2.59</td>\n",
       "      <td>2.87</td>\n",
       "      <td>21.0</td>\n",
       "      <td>118.0</td>\n",
       "      <td>2.80</td>\n",
       "      <td>B</td>\n",
       "      <td>0.39</td>\n",
       "      <td>1</td>\n",
       "      <td>4.32</td>\n",
       "      <td>1.04</td>\n",
       "      <td>2.93</td>\n",
       "      <td>735.0</td>\n",
       "      <td>0</td>\n",
       "    </tr>\n",
       "  </tbody>\n",
       "</table>\n",
       "</div>"
      ],
      "text/plain": [
       "   alcohol  malic_acid   ash  alcalinity_of_ash  magnesium  total_phenols  \\\n",
       "0    14.23        1.71  2.43               15.6      127.0           2.80   \n",
       "1    13.20        1.78  2.14               11.2      100.0           2.65   \n",
       "2    13.16        2.36  2.67               18.6      101.0           2.80   \n",
       "3    14.37        1.95  2.50               16.8      113.0           3.85   \n",
       "4    13.24        2.59  2.87               21.0      118.0           2.80   \n",
       "\n",
       "  flavanoids  nonflavanoid_phenols proanthocyanins  color_intensity   hue  \\\n",
       "0          c                  0.28               2             5.64  1.04   \n",
       "1          c                  0.26               1             4.38  1.05   \n",
       "2          c                  0.30               3             5.68  1.03   \n",
       "3          c                  0.24               2             7.80  0.86   \n",
       "4          B                  0.39               1             4.32  1.04   \n",
       "\n",
       "   od280/od315_of_diluted_wines  proline  target  \n",
       "0                          3.92   1065.0       0  \n",
       "1                          3.40   1050.0       0  \n",
       "2                          3.17   1185.0       0  \n",
       "3                          3.45   1480.0       0  \n",
       "4                          2.93    735.0       0  "
      ]
     },
     "execution_count": 53,
     "metadata": {},
     "output_type": "execute_result"
    }
   ],
   "source": [
    "wine[\"proanthocyanins\"] = cat\n",
    "#wine.head()"
   ]
  },
  {
   "cell_type": "markdown",
   "id": "c47baaaf-1983-420b-8209-f96b3b523c93",
   "metadata": {},
   "source": [
    "## T Test "
   ]
  },
  {
   "cell_type": "markdown",
   "id": "af4e71d7-87c4-4131-8916-ebbb9c7e0886",
   "metadata": {},
   "source": [
    "### Example1"
   ]
  },
  {
   "cell_type": "code",
   "execution_count": 58,
   "id": "20baec6b-89b9-42d5-9906-95bd27c31010",
   "metadata": {},
   "outputs": [
    {
     "data": {
      "image/png": "[encoded data removed]",
      "text/plain": [
       "<Figure size 600x400 with 1 Axes>"
      ]
     },
     "metadata": {},
     "output_type": "display_data"
    }
   ],
   "source": [
    "# example 1\n",
    "plt.figure(figsize = (6,4))\n",
    "plt.title(\"proanthocyanins vs color intensity\")\n",
    "sns.scatterplot(x=wine[\"proanthocyanins\"], y = wine[\"color_intensity\"])\n",
    "plt.show()"
   ]
  },
  {
   "cell_type": "code",
   "execution_count": 69,
   "id": "306be746-ae85-45b9-80de-831d9fef1344",
   "metadata": {},
   "outputs": [
    {
     "name": "stdout",
     "output_type": "stream",
     "text": [
      "T Statistical value: -22.17444\n",
      "P value for t_test: 0.00000\n",
      "proanthocyanins and color intensity dependent(rejecting h0)\n"
     ]
    }
   ],
   "source": [
    "# H0 = proanthocyanins and color intensity are independent\n",
    "# Ha = proanthocyanins and color intensity are not independent\n",
    "\n",
    "# checking whether to accpet the null hypothesis or reject it.\n",
    "t_stat, t_p = ttest_ind(wine[\"proanthocyanins\"], wine[\"color_intensity\"])\n",
    "\n",
    "print(\"T Statistical value: %.5f\" %t_stat)\n",
    "print(\"P value for t_test: %.5f\" %t_p)\n",
    "\n",
    "alpha = 0.05\n",
    "if t_p > alpha:\n",
    "    print(\"proanthocyanins and color intensity are independent(accepting h0) \")\n",
    "else:\n",
    "    print(\"proanthocyanins and color intensity dependent(rejecting h0)\")"
   ]
  },
  {
   "cell_type": "markdown",
   "id": "9a748fab-b5c7-4aa5-ab4f-327d3929cf01",
   "metadata": {},
   "source": [
    "### Example2 "
   ]
  },
  {
   "cell_type": "code",
   "execution_count": null,
   "id": "b43f855a-a1fc-4741-972c-94ac65b92db1",
   "metadata": {},
   "outputs": [],
   "source": [
    "# example 2\n",
    "sns.histplot(x = wine[\"proline\"], bins = 20, alpha = 0.6, legend = False, kde= True)\n",
    "plt.show()"
   ]
  },
  {
   "cell_type": "code",
   "execution_count": 62,
   "id": "ebaa0c49-bb16-4245-ab8c-03dd835ce9e8",
   "metadata": {},
   "outputs": [
    {
     "data": {
      "text/plain": [
       "746.8932584269663"
      ]
     },
     "execution_count": 62,
     "metadata": {},
     "output_type": "execute_result"
    }
   ],
   "source": [
    "wine[\"proline\"].mean()"
   ]
  },
  {
   "cell_type": "code",
   "execution_count": 63,
   "id": "7a06f730-0395-4500-97dd-179713d44514",
   "metadata": {},
   "outputs": [],
   "source": [
    "sample1 = np.random.choice(wine[\"proline\"], size = 34)\n",
    "sample2 = np.random.choice(wine[\"proline\"], size = 34)"
   ]
  },
  {
   "cell_type": "code",
   "execution_count": 67,
   "id": "7bcff268-e833-41eb-9f66-e9d5cdfc25e6",
   "metadata": {},
   "outputs": [
    {
     "name": "stdout",
     "output_type": "stream",
     "text": [
      "T Statistical value: 1.01628\n",
      "P value for t_test: 0.31321\n",
      "sample1 and sample2 are not equal (accepting h0) \n"
     ]
    }
   ],
   "source": [
    "# H0 = sample1 and sample2 are not equal\n",
    "# Ha = sample1 and sample2 are equal\n",
    "\n",
    "# checking whether to accpet the null hypothesis or reject it.\n",
    "t_stat, t_p = ttest_ind(sample1, sample2)\n",
    "\n",
    "print(\"T Statistical value: %.5f\" %t_stat)\n",
    "print(\"P value for t_test: %.5f\" %t_p)\n",
    "\n",
    "alpha = 0.05\n",
    "if t_p > alpha:\n",
    "    print(\"sample1 and sample2 are not equal (accepting h0) \")\n",
    "else:\n",
    "    print(\" sample1 and sample2 are equal (rejecting h0)\")"
   ]
  },
  {
   "cell_type": "markdown",
   "id": "e7a3050f-2ad5-4810-b791-f243595d9c5f",
   "metadata": {},
   "source": [
    "## Chi Square Test"
   ]
  },
  {
   "cell_type": "code",
   "execution_count": 76,
   "id": "03c3c144-48eb-4a0f-a50e-2a72c028fc57",
   "metadata": {},
   "outputs": [],
   "source": [
    "data = {\n",
    "    \"Gender\": np.random.choice([\"Male\", \"Female\"], 80),\n",
    "    \"Subject\": np.random.choice([\"Med\", \"Eng\"], 80)\n",
    "}"
   ]
  },
  {
   "cell_type": "code",
   "execution_count": 77,
   "id": "a97d7511-1a23-4b6f-8f17-6a2b7f4ae4ff",
   "metadata": {},
   "outputs": [
    {
     "data": {
      "text/html": [
       "<div>\n",
       "<style scoped>\n",
       "    .dataframe tbody tr th:only-of-type {\n",
       "        vertical-align: middle;\n",
       "    }\n",
       "\n",
       "    .dataframe tbody tr th {\n",
       "        vertical-align: top;\n",
       "    }\n",
       "\n",
       "    .dataframe thead th {\n",
       "        text-align: right;\n",
       "    }\n",
       "</style>\n",
       "<table border=\"1\" class=\"dataframe\">\n",
       "  <thead>\n",
       "    <tr style=\"text-align: right;\">\n",
       "      <th></th>\n",
       "      <th>Gender</th>\n",
       "      <th>Subject</th>\n",
       "    </tr>\n",
       "  </thead>\n",
       "  <tbody>\n",
       "    <tr>\n",
       "      <th>0</th>\n",
       "      <td>Female</td>\n",
       "      <td>Eng</td>\n",
       "    </tr>\n",
       "    <tr>\n",
       "      <th>1</th>\n",
       "      <td>Female</td>\n",
       "      <td>Eng</td>\n",
       "    </tr>\n",
       "    <tr>\n",
       "      <th>2</th>\n",
       "      <td>Male</td>\n",
       "      <td>Med</td>\n",
       "    </tr>\n",
       "    <tr>\n",
       "      <th>3</th>\n",
       "      <td>Female</td>\n",
       "      <td>Med</td>\n",
       "    </tr>\n",
       "    <tr>\n",
       "      <th>4</th>\n",
       "      <td>Male</td>\n",
       "      <td>Med</td>\n",
       "    </tr>\n",
       "    <tr>\n",
       "      <th>5</th>\n",
       "      <td>Female</td>\n",
       "      <td>Med</td>\n",
       "    </tr>\n",
       "    <tr>\n",
       "      <th>6</th>\n",
       "      <td>Female</td>\n",
       "      <td>Med</td>\n",
       "    </tr>\n",
       "    <tr>\n",
       "      <th>7</th>\n",
       "      <td>Male</td>\n",
       "      <td>Eng</td>\n",
       "    </tr>\n",
       "    <tr>\n",
       "      <th>8</th>\n",
       "      <td>Female</td>\n",
       "      <td>Eng</td>\n",
       "    </tr>\n",
       "    <tr>\n",
       "      <th>9</th>\n",
       "      <td>Female</td>\n",
       "      <td>Eng</td>\n",
       "    </tr>\n",
       "  </tbody>\n",
       "</table>\n",
       "</div>"
      ],
      "text/plain": [
       "   Gender Subject\n",
       "0  Female     Eng\n",
       "1  Female     Eng\n",
       "2    Male     Med\n",
       "3  Female     Med\n",
       "4    Male     Med\n",
       "5  Female     Med\n",
       "6  Female     Med\n",
       "7    Male     Eng\n",
       "8  Female     Eng\n",
       "9  Female     Eng"
      ]
     },
     "execution_count": 77,
     "metadata": {},
     "output_type": "execute_result"
    }
   ],
   "source": [
    "course = pd.DataFrame(data)\n",
    "course.head(10)\n"
   ]
  },
  {
   "cell_type": "code",
   "execution_count": 80,
   "id": "17518cb0-b388-4bcf-8cc2-bc536abb56e0",
   "metadata": {},
   "outputs": [],
   "source": [
    "crstb= pd.crosstab(course[\"Gender\"], course[\"Subject\"])"
   ]
  },
  {
   "cell_type": "code",
   "execution_count": 81,
   "id": "08fb5fb8-03ad-49a4-a465-58d9749626c7",
   "metadata": {},
   "outputs": [
    {
     "name": "stdout",
     "output_type": "stream",
     "text": [
      "Chi2 statistical value: 0.86817\n",
      "Chi2 p value: 0.35146\n",
      "IT is not true - accept Ha\n"
     ]
    }
   ],
   "source": [
    "# H0 = More male are doing medical and females doing eng\n",
    "# Ha = It is not true\n",
    "\n",
    "chi_stat, chi_p, _, _= chi2_contingency(crstb)\n",
    "\n",
    "print(\"Chi2 statistical value: %.5f\" %chi_stat)\n",
    "print(\"Chi2 p value: %.5f\" %chi_p)\n",
    "\n",
    "alpha = 0.5\n",
    "if chi_p > alpha:\n",
    "    print(\"More male are doing medical and females doing eng - accept H0\")\n",
    "else:\n",
    "    print(\"IT is not true - accept Ha\")"
   ]
  },
  {
   "cell_type": "code",
   "execution_count": null,
   "id": "c9ffb655-9fe8-4872-a12f-a1917eb16abb",
   "metadata": {},
   "outputs": [],
   "source": []
  }
 ],
 "metadata": {
  "kernelspec": {
   "display_name": "Python 3 (ipykernel)",
   "language": "python",
   "name": "python3"
  },
  "language_info": {
   "codemirror_mode": {
    "name": "ipython",
    "version": 3
   },
   "file_extension": ".py",
   "mimetype": "text/x-python",
   "name": "python",
   "nbconvert_exporter": "python",
   "pygments_lexer": "ipython3",
   "version": "3.10.8"
  }
 },
 "nbformat": 4,
 "nbformat_minor": 5
}
